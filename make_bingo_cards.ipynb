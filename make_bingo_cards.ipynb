{
 "cells": [
  {
   "cell_type": "code",
   "execution_count": 1,
   "metadata": {
    "collapsed": true
   },
   "outputs": [],
   "source": [
    "import numpy as np\n",
    "import matplotlib.pyplot as plt\n",
    "from __future__ import print_function, division\n",
    "%matplotlib inline"
   ]
  },
  {
   "cell_type": "code",
   "execution_count": 2,
   "metadata": {
    "collapsed": true
   },
   "outputs": [],
   "source": [
    "from matplotlib.patches import Rectangle\n",
    "\n",
    "class bingo_card():\n",
    "    \"\"\"\n",
    "    class to create bingo sheets\n",
    "    \"\"\"\n",
    "    def __init__(self, phrases=[], Ncol=5, Nrow=5, size=8, fontsize=12):\n",
    "        \"\"\"\n",
    "        Parameters\n",
    "        ----------\n",
    "        phrases : list\n",
    "            list of phrases to put into bing squares\n",
    "        \n",
    "        Ncol : int\n",
    "            number of columns\n",
    "        \n",
    "        Nrow : int\n",
    "            number of rows\n",
    "        \n",
    "        size : float\n",
    "            size of card in inches\n",
    "        \"\"\"\n",
    "        \n",
    "        self.x0=0.05\n",
    "        self.y0=0.05\n",
    "        self.Lbox = 0.9\n",
    "        self.Ncol = Ncol\n",
    "        self.Nrow = Nrow\n",
    "        self.fontsize = fontsize\n",
    "        \n",
    "        self.center_text='FREE'\n",
    "        self.center_fontsize = 20\n",
    "        self.center = [int(Ncol/2),int(Nrow/2)]\n",
    "        \n",
    "        Nphrases = len(phrases)\n",
    "        self.phrases = phrases\n",
    "        \n",
    "        #draw outer box\n",
    "        self.fig = plt.figure(figsize=(size,size))\n",
    "        outer_square = Rectangle([self.x0,self.y0], self.Lbox , self.Lbox, facecolor=\"none\", edgecolor=\"black\")\n",
    "        self.ax = plt.gca()\n",
    "        self.ax.set_axis_off()\n",
    "        self.ax.add_patch(outer_square)\n",
    "        \n",
    "        #create inner boxes\n",
    "        self.dx = 1.0*self.Lbox/self.Ncol\n",
    "        self.dy = 1.0*self.Lbox/self.Nrow\n",
    "        \n",
    "        #get random numbers to select phrases\n",
    "        if Nphrases>=(Ncol*Nrow):\n",
    "            replace=False\n",
    "        else:\n",
    "            replace=True\n",
    "        ran_indices = np.random.choice(Nphrases, Ncol*Nrow, replace=replace)\n",
    "        ran_indices = np.reshape(ran_indices,(Ncol,Nrow))\n",
    "        for i in range(0,Ncol):\n",
    "            for j in range(0,Nrow):\n",
    "                k = ran_indices[i,j]\n",
    "                self.square(i,j,k)\n",
    "        \n",
    "    def square(self, icol, irow, iphrase):\n",
    "        \"\"\"\n",
    "        bingo squares\n",
    "        \n",
    "        Parameters\n",
    "        ----------\n",
    "        phrase : string\n",
    "            text to put into the square\n",
    "        \n",
    "        icol : int\n",
    "            index inidicating the column\n",
    "        \n",
    "        irow : int\n",
    "            index inidicating the row\n",
    "        \"\"\"\n",
    "        \n",
    "        x = self.x0 + icol*self.dx\n",
    "        y = self.y0 + irow*self.dy\n",
    "                       \n",
    "        #add text\n",
    "        if [icol, irow] == self.center:\n",
    "            inner_square = Rectangle([x,y], self.dx , self.dy, facecolor=\"black\", edgecolor=\"black\")\n",
    "            self.ax.add_patch(inner_square)\n",
    "            self.ax.text(x+self.dx/2.0,y+self.dy/2.0, self.center_text,\n",
    "                         fontsize=self.center_fontsize, color='white', weight='heavy',\n",
    "                         horizontalalignment='center',\n",
    "                         verticalalignment='center')\n",
    "        else:\n",
    "            inner_square = Rectangle([x,y], self.dx , self.dy, facecolor=\"none\", edgecolor=\"black\")\n",
    "            self.ax.add_patch(inner_square)\n",
    "            self.ax.text(x+self.dx/2.0,y+self.dy/2.0, self.phrases[iphrase],\n",
    "                         fontsize=self.fontsize,\n",
    "                         horizontalalignment='center',\n",
    "                         verticalalignment='center', wrap=True)\n",
    "            "
   ]
  },
  {
   "cell_type": "code",
   "execution_count": 5,
   "metadata": {},
   "outputs": [
    {
     "name": "stdout",
     "output_type": "stream",
     "text": [
      "number of phrases: 50\n"
     ]
    }
   ],
   "source": [
    "#open and process phrase sheet\n",
    "fname = './bingo_items_3.txt'\n",
    "with open(fname) as f:\n",
    "    phrases = f.readlines()\n",
    "phrases = [x.strip() for x in phrases] \n",
    "phrases = [x.replace('(new line)','\\n') for x in phrases] \n",
    "print(\"number of phrases:\",len(phrases))"
   ]
  },
  {
   "cell_type": "code",
   "execution_count": 15,
   "metadata": {},
   "outputs": [
    {
     "data": {
      "image/png": "[encoded data removed]",
      "text/plain": [
       "<matplotlib.figure.Figure at 0x10a005d10>"
      ]
     },
     "metadata": {},
     "output_type": "display_data"
    }
   ],
   "source": [
    "#create bing sheet\n",
    "card = bingo_card(phrases=phrases)"
   ]
  },
  {
   "cell_type": "code",
   "execution_count": 16,
   "metadata": {
    "collapsed": true
   },
   "outputs": [],
   "source": [
    "#create random bing sheets\n",
    "Ncards = 100\n",
    "for i in range(0, Ncards):\n",
    "    card = bingo_card(phrases=phrases)\n",
    "    card.fig.savefig('./bingo_sheets_3/'+str(i)+'_sheet.pdf')\n",
    "    plt.close(card.fig)"
   ]
  },
  {
   "cell_type": "code",
   "execution_count": null,
   "metadata": {
    "collapsed": true
   },
   "outputs": [],
   "source": []
  }
 ],
 "metadata": {
  "kernelspec": {
   "display_name": "Python 2",
   "language": "python",
   "name": "python2"
  },
  "language_info": {
   "codemirror_mode": {
    "name": "ipython",
    "version": 2
   },
   "file_extension": ".py",
   "mimetype": "text/x-python",
   "name": "python",
   "nbconvert_exporter": "python",
   "pygments_lexer": "ipython2",
   "version": "2.7.13"
  }
 },
 "nbformat": 4,
 "nbformat_minor": 2
}
